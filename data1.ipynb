{
 "cells": [
  {
   "cell_type": "code",
   "execution_count": null,
   "id": "b25e5878",
   "metadata": {},
   "outputs": [],
   "source": [
    "import pandas as pd\n",
    "import matplotlib.pyplot as plt\n",
    "import seaborn as sns\n",
    "\n",
    "# Load the dataset\n",
    "df = pd.read_csv('data1.csv')\n",
    "\n",
    "# Basic info\n",
    "print(\"Shape:\", df.shape)\n",
    "print(\"Columns:\", df.columns.tolist())\n",
    "print(\"Data types:\\n\", df.dtypes)\n",
    "print(\"Missing values:\\n\", df.isnull().sum())\n",
    "\n",
    "# Descriptive statistics\n",
    "print(\"Summary statistics:\\n\", df.describe())\n",
    "\n",
    "# Value counts for categorical columns\n",
    "categorical_cols = ['Resources', 'Extracurricular', 'Motivation', 'Internet', 'Gender', 'LearningStyle', 'OnlineCourses', 'Discussions', 'EduTech', 'StressLevel', 'FinalGrade']\n",
    "for col in categorical_cols:\n",
    "    print(f\"\\nValue counts for {col}:\")\n",
    "    print(df[col].value_counts())\n",
    "\n",
    "# Correlation matrix\n",
    "plt.figure(figsize=(12,8))\n",
    "sns.heatmap(df.corr(), annot=True, fmt=\".2f\", cmap=\"coolwarm\")\n",
    "plt.title(\"Correlation Matrix\")\n",
    "plt.tight_layout()\n",
    "plt.show()\n",
    "\n",
    "# Distribution of FinalGrade\n",
    "plt.figure(figsize=(6,4))\n",
    "sns.countplot(x='FinalGrade', data=df)\n",
    "plt.title(\"Distribution of FinalGrade\")\n",
    "plt.show()\n",
    "\n",
    "# Distribution of ExamScore\n",
    "plt.figure(figsize=(6,4))\n",
    "sns.histplot(df['ExamScore'], bins=20, kde=True)\n",
    "plt.title(\"Distribution of ExamScore\")\n",
    "plt.show()"
   ]
  }
 ],
 "metadata": {
  "kernelspec": {
   "display_name": "Python 3 (ipykernel)",
   "language": "python",
   "name": "python3"
  },
  "language_info": {
   "codemirror_mode": {
    "name": "ipython",
    "version": 3
   },
   "file_extension": ".py",
   "mimetype": "text/x-python",
   "name": "python",
   "nbconvert_exporter": "python",
   "pygments_lexer": "ipython3",
   "version": "3.11.4"
  }
 },
 "nbformat": 4,
 "nbformat_minor": 5
}
